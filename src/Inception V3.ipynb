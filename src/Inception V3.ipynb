{
 "cells": [
  {
   "cell_type": "markdown",
   "id": "e95f2fe5",
   "metadata": {},
   "source": [
    "# This will be a simple notebook to try and challenge the model created in \n",
    "#### https://github.com/acantril/learn-cantrill-io-labs/tree/master/aws-pet-rekognition-ecr\n",
    "##### Description to be update\n",
    "* Ample documentation and comparisons will be on Github in later stages"
   ]
  },
  {
   "cell_type": "code",
   "execution_count": 2,
   "id": "563add68",
   "metadata": {},
   "outputs": [],
   "source": [
    "# For lib/pkg installs\n",
    "#!py -m pip install zipfile39"
   ]
  },
  {
   "cell_type": "markdown",
   "id": "7f94c1d0",
   "metadata": {},
   "source": [
    "###### Imports and prep"
   ]
  },
  {
   "cell_type": "code",
   "execution_count": 1,
   "id": "5c28b157",
   "metadata": {},
   "outputs": [],
   "source": [
    "import pandas as pd\n",
    "import numpy as np\n",
    "import os\n",
    "import matplotlib.image as mpimg\n",
    "import matplotlib.pyplot as plt\n",
    "import tensorflow as tf\n",
    "from tensorflow.keras import layers\n",
    "from keras_preprocessing.image import ImageDataGenerator\n",
    "from keras.layers import Input, Dense, Dropout, Activation, Flatten\n",
    "from keras.optimizers import RMSprop"
   ]
  },
  {
   "cell_type": "code",
   "execution_count": 2,
   "id": "c1d34dc1",
   "metadata": {},
   "outputs": [],
   "source": [
    "base_dir = 'C:/Users/gamze/Desktop/Study/ML/Projects/Datasets/Cats_Dogs_Class_Reko/acantrill' # Local data set Train:160__Val:80\n",
    "periph_dir = 'C:/Users/gamze/Desktop/Study/ML/Projects/Datasets/Cats_Dogs_Class_Reko/google_api' # google API dataset Train:1000___Val:500\n",
    "train_dir = os.path.join(base_dir,'train')\n",
    "validation_dir = os.path.join(base_dir,'validation')"
   ]
  },
  {
   "cell_type": "code",
   "execution_count": 3,
   "id": "8321f313",
   "metadata": {},
   "outputs": [],
   "source": [
    "train_cats_dir = os.path.join(train_dir, 'cats') # 1000 samples --> 160 \n",
    "train_dogs_dir = os.path.join(train_dir, 'dogs') # 1000 samples --> 160"
   ]
  },
  {
   "cell_type": "code",
   "execution_count": 4,
   "id": "9187f029",
   "metadata": {},
   "outputs": [],
   "source": [
    "validation_cats_dir = os.path.join(validation_dir, 'cats') # 500 samples --> 80\n",
    "validation_dogs_dir = os.path.join(validation_dir, 'dogs') # 500 samples --> 80"
   ]
  },
  {
   "cell_type": "markdown",
   "id": "81d8a854",
   "metadata": {},
   "source": [
    "### First Pre-trained model to implement is the: \n",
    "## Inception V3"
   ]
  },
  {
   "cell_type": "markdown",
   "id": "084914ad",
   "metadata": {},
   "source": [
    "\n",
    "Image augmentation since the dataset used here is lacking in size\n"
   ]
  },
  {
   "cell_type": "code",
   "execution_count": 6,
   "id": "32fa3a4d",
   "metadata": {},
   "outputs": [],
   "source": [
    "train_datagen = ImageDataGenerator(rescale = 1./255., rotation_range=40,\n",
    "                                   width_shift_range=.2, height_shift_range=.2,\n",
    "                                   shear_range=.2, zoom_range=.2, horizontal_flip=True)\n",
    "test_datagen = ImageDataGenerator(rescale=1./255)"
   ]
  },
  {
   "cell_type": "code",
   "execution_count": 7,
   "id": "1958348f",
   "metadata": {},
   "outputs": [
    {
     "name": "stdout",
     "output_type": "stream",
     "text": [
      "Found 320 images belonging to 2 classes.\n",
      "Found 162 images belonging to 2 classes.\n"
     ]
    }
   ],
   "source": [
    "train_generator = train_datagen.flow_from_directory(train_dir, batch_size=20, \n",
    "                                                    class_mode='binary', target_size=(150,150))\n",
    "validation_generator = test_datagen.flow_from_directory(validation_dir, batch_size=20, \n",
    "                                                    class_mode='binary', target_size=(150,150))"
   ]
  },
  {
   "cell_type": "markdown",
   "id": "993253b5",
   "metadata": {},
   "source": [
    "* Load Base Model of the Inception V3\n"
   ]
  },
  {
   "cell_type": "code",
   "execution_count": 9,
   "id": "0bfa8edb",
   "metadata": {},
   "outputs": [
    {
     "name": "stdout",
     "output_type": "stream",
     "text": [
      "Downloading data from https://storage.googleapis.com/tensorflow/keras-applications/inception_v3/inception_v3_weights_tf_dim_ordering_tf_kernels_notop.h5\n",
      "87910968/87910968 [==============================] - 60s 1us/step\n"
     ]
    }
   ],
   "source": [
    "from tensorflow.keras.applications.inception_v3 import InceptionV3\n",
    "\n",
    "base_model = InceptionV3(input_shape=(150,150,3), \n",
    "                   include_top = False, # leave out laft FC layer\n",
    "                   weights='imagenet')\n"
   ]
  },
  {
   "cell_type": "markdown",
   "id": "f068c8e5",
   "metadata": {},
   "source": [
    "* No need to train all layers"
   ]
  },
  {
   "cell_type": "code",
   "execution_count": 10,
   "id": "6278fa22",
   "metadata": {},
   "outputs": [],
   "source": [
    "for layer in base_model.layers:\n",
    "    layer.trainable = False"
   ]
  },
  {
   "cell_type": "markdown",
   "id": "ce97d549",
   "metadata": {},
   "source": [
    "###### Compile with normal settings\n",
    "* Fine Tuning later"
   ]
  },
  {
   "cell_type": "code",
   "execution_count": 12,
   "id": "15364f2e",
   "metadata": {},
   "outputs": [],
   "source": [
    "# Flatten to 1 dim\n",
    "x = Flatten()(base_model.output)\n",
    "\n",
    "# FC layer with the 1024 hidden units and a ReLU \n",
    "x = Dense(1024, activation='relu')(x)\n",
    "\n",
    "# Setting the dropout for .5 for now as def, but will decrease later if no hyper parameter tuning is done\n",
    "x = Dropout(0.5)(x)\n",
    "\n",
    "# Sigmoid for output\n",
    "x = layers.Dense(1,activation='sigmoid')(x)\n",
    "\n",
    "model = tf.keras.models.Model(base_model.input,x)\n",
    "model.compile(optimizer=tf.keras.optimizers.RMSprop(learning_rate=.0001), \n",
    "              loss='binary_crossentropy',metrics=['acc'])\n"
   ]
  },
  {
   "cell_type": "code",
   "execution_count": 15,
   "id": "63ad2668",
   "metadata": {},
   "outputs": [
    {
     "name": "stdout",
     "output_type": "stream",
     "text": [
      "Epoch 1/10\n",
      "16/16 [==============================] - 48s 3s/step - loss: 0.9862 - acc: 0.8469 - val_loss: 0.5924 - val_acc: 0.8827\n",
      "Epoch 2/10\n",
      "16/16 [==============================] - 57s 4s/step - loss: 0.5805 - acc: 0.8625 - val_loss: 0.1918 - val_acc: 0.9506\n",
      "Epoch 3/10\n",
      "16/16 [==============================] - 58s 4s/step - loss: 0.4961 - acc: 0.8844 - val_loss: 0.1017 - val_acc: 0.9630\n",
      "Epoch 4/10\n",
      "16/16 [==============================] - 47s 3s/step - loss: 0.5332 - acc: 0.8750 - val_loss: 0.1896 - val_acc: 0.9506\n",
      "Epoch 5/10\n",
      "16/16 [==============================] - 53s 3s/step - loss: 0.5313 - acc: 0.8844 - val_loss: 0.1925 - val_acc: 0.9444\n",
      "Epoch 6/10\n",
      "16/16 [==============================] - 102s 6s/step - loss: 0.4884 - acc: 0.8781 - val_loss: 0.7705 - val_acc: 0.8827\n",
      "Epoch 7/10\n",
      "16/16 [==============================] - 58s 3s/step - loss: 0.5984 - acc: 0.8750 - val_loss: 0.1979 - val_acc: 0.9506\n",
      "Epoch 8/10\n",
      "16/16 [==============================] - 50s 3s/step - loss: 0.4730 - acc: 0.8969 - val_loss: 0.2491 - val_acc: 0.9383\n",
      "Epoch 9/10\n",
      "16/16 [==============================] - 51s 3s/step - loss: 0.4486 - acc: 0.9000 - val_loss: 0.2646 - val_acc: 0.9259\n",
      "Epoch 10/10\n",
      "16/16 [==============================] - 48s 3s/step - loss: 0.4872 - acc: 0.9094 - val_loss: 0.1225 - val_acc: 0.9630\n"
     ]
    }
   ],
   "source": [
    "inchistory = model.fit(train_generator, \n",
    "                    validation_data=validation_generator,\n",
    "                    steps_per_epoch=16, epochs=10)"
   ]
  },
  {
   "cell_type": "code",
   "execution_count": null,
   "id": "88b7e0cf",
   "metadata": {},
   "outputs": [],
   "source": []
  }
 ],
 "metadata": {
  "kernelspec": {
   "display_name": "Python 3",
   "language": "python",
   "name": "python3"
  },
  "language_info": {
   "codemirror_mode": {
    "name": "ipython",
    "version": 3
   },
   "file_extension": ".py",
   "mimetype": "text/x-python",
   "name": "python",
   "nbconvert_exporter": "python",
   "pygments_lexer": "ipython3",
   "version": "3.8.8"
  }
 },
 "nbformat": 4,
 "nbformat_minor": 5
}
